{
 "cells": [
  {
   "cell_type": "markdown",
   "metadata": {},
   "source": [
    "For part one of Wedge, I used a Data Bucket in GBQ. I uploaded all the csv files directly to the Storage in a completed format.\n",
    "From there, I created a Data Set called wedge_data and then a table called Wedge_Data_Complete, within my table I did a full csv pull from the Bucket with all the CSV's and used the Wedge Schema loaded directly into the table creation.\n",
    "\n"
   ]
  },
  {
   "cell_type": "code",
   "execution_count": null,
   "metadata": {},
   "outputs": [],
   "source": [
    "import random\n",
    "\n",
    "from google.cloud import bigquery\n",
    "from google.oauth2 import service_account\n",
    "\n",
    "service_path = \"C:\\\\Users\\\\mr_me\\\\Desktop\\\\ada-wedge\\\\\"\n",
    "service_file = 'wedge-project-ada-amh-c5fc54f5c97c.json' # this is your authentication information  \n",
    "gbq_proj_id = 'wedge-project-ada-amh'  # change this to your project_id\n",
    "\n",
    "# And this should stay the same. \n",
    "\n",
    " \n",
    "private_key =service_path + service_file\n",
    "\n",
    "credentials = service_account.Credentials.from_service_account_file(service_path + service_file)\n",
    "client = bigquery.Client(credentials = credentials, project=gbq_proj_id)"
   ]
  },
  {
   "cell_type": "code",
   "execution_count": null,
   "metadata": {},
   "outputs": [],
   "source": [
    "query = ('''\n",
    "    Select DISTINCT card_no\n",
    "    FROM `wedge-project-ada-amh.wedge_data.Wedge_Data_Complete`\n",
    "    WHERE card_no != 3\n",
    "''')\n",
    "\n",
    "query_job = client.query(\n",
    "    query,\n",
    "    location = \"US\",\n",
    ")\n",
    "\n",
    "q_result = client.query(query)#results\n",
    "\n",
    "result_list = []#new list\n",
    "for entry in q_result:\n",
    "    result_list.append(entry)\n",
    "    \n",
    "owners =[]#owner list\n",
    "\n",
    "for counter,entry in enumerate (result_list):\n",
    "    owners.append(result_list[counter][0])"
   ]
  },
  {
   "cell_type": "code",
   "execution_count": null,
   "metadata": {},
   "outputs": [],
   "source": [
    "print(owners)"
   ]
  },
  {
   "cell_type": "code",
   "execution_count": null,
   "metadata": {},
   "outputs": [],
   "source": [
    "sample = random.choices(owners, k = 500)"
   ]
  },
  {
   "cell_type": "code",
   "execution_count": null,
   "metadata": {},
   "outputs": [],
   "source": [
    "query = ('''\n",
    "    Select *\n",
    "    FROM `wedge-project-ada-amh.wedge_data.Wedge_Data_Complete`\n",
    "    WHERE card_no in (\n",
    "''')\n",
    "\n",
    "for idx, owner in enumerate(sample):\n",
    "    sample_owners = str(int(owner))\n",
    "    if idx < len(sample)-1:\n",
    "        query += sample_owners + ','\n",
    "    else:\n",
    "        query += sample_owners + ')'\n",
    "        \n",
    "\n",
    "        \n",
    "query_job = client.query(\n",
    "    query,\n",
    "    location = 'US',\n",
    ")\n",
    "\n",
    "sample_owners_records = client.query(query)"
   ]
  },
  {
   "cell_type": "code",
   "execution_count": null,
   "metadata": {},
   "outputs": [],
   "source": [
    "headers = [\"datetime\",\"register_no\",\"emp_no\",\"trans_no\",\"upc\",\"description\",\"trans_type\",\"trans_subtype\",\"trans_status\",\"department\",\"quantity\",\"Scale\",\"cost\",\"unitPrice\",\"total\",\"regPrice\",\"altPrice\",\"tax\",\"taxexempt\",\"foodstamp\",\"wicable\",\"discount\",\"memDiscount\",\"discountable\",\"discounttype\",\"voided\",\"percentDiscount\",\"ItemQtty\",\"volDiscType\",\"volume\",\"VolSpecial\",\"mixMatch\",\"matched\",\"memType\",\"staff\",\"numflag\",\"itemstatus\",\"tenderstatus\",\"charflag\",\"varflag\",\"batchHeaderID\",\"local\",\"organic\",\"display\",\"receipt\",\"card_no\",\"store\",\"branch\",\"match_id\",\"trans_id\"]"
   ]
  },
  {
   "cell_type": "code",
   "execution_count": null,
   "metadata": {},
   "outputs": [],
   "source": [
    "with open(\"AHendricks_WedgePt2.txt\", \"w\") as output_file:\n",
    "    output_file.write(','.join(headers)+'\\n')\n",
    "    for line in sample_owners_records:\n",
    "        row = [str(item) for item in line]\n",
    "        output_file.write(','.join(row)+'\\n')"
   ]
  }
 ],
 "metadata": {
  "kernelspec": {
   "display_name": "Python 3",
   "language": "python",
   "name": "python3"
  },
  "language_info": {
   "codemirror_mode": {
    "name": "ipython",
    "version": 3
   },
   "file_extension": ".py",
   "mimetype": "text/x-python",
   "name": "python",
   "nbconvert_exporter": "python",
   "pygments_lexer": "ipython3",
   "version": "3.7.7"
  }
 },
 "nbformat": 4,
 "nbformat_minor": 4
}
