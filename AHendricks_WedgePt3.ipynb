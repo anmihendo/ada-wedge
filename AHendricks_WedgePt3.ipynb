{
 "cells": [
  {
   "cell_type": "code",
   "execution_count": 1,
   "metadata": {},
   "outputs": [],
   "source": [
    "import sqlite3\n",
    "\n",
    "db = sqlite3.connect(\"WedgePart3.db\")"
   ]
  },
  {
   "cell_type": "code",
   "execution_count": 2,
   "metadata": {},
   "outputs": [],
   "source": [
    "cur = db.cursor()"
   ]
  },
  {
   "cell_type": "code",
   "execution_count": 3,
   "metadata": {},
   "outputs": [],
   "source": [
    "db.commit()"
   ]
  },
  {
   "cell_type": "code",
   "execution_count": 4,
   "metadata": {},
   "outputs": [],
   "source": [
    "import random\n",
    "import os\n",
    "from google.cloud import bigquery\n",
    "from google.oauth2 import service_account\n",
    "\n",
    "service_path = \"C:\\\\Users\\\\mr_me\\\\Desktop\\\\ada-wedge\\\\\"\n",
    "service_file = 'wedge-project-ada-amh-c5fc54f5c97c.json' # this is your authentication information  \n",
    "gbq_proj_id = 'wedge-project-ada-amh'  # change this to your project_id\n",
    "gbp_dataset_id = 'Wedge_Data_Complete'\n",
    "# And this should stay the same. \n",
    "\n",
    " \n",
    "private_key =service_path + service_file\n",
    "\n",
    "credentials = service_account.Credentials.from_service_account_file(service_path + service_file)\n",
    "client = bigquery.Client(credentials = credentials, project=gbq_proj_id)"
   ]
  },
  {
   "cell_type": "code",
   "execution_count": 5,
   "metadata": {},
   "outputs": [],
   "source": [
    "#query for first table\n",
    "\n",
    "query = ('''\n",
    "SELECT\n",
    "(EXTRACT(date FROM datetime)) AS date,\n",
    "(EXTRACT(hour FROM datetime)) AS hour,\n",
    "  SUM(total) AS spend,\n",
    "  COUNT(DISTINCT(DATE(datetime) || register_no || emp_no || trans_no)) as Transactions,\n",
    "  sum(CASE WHEN (trans_status = 'V' or trans_status = 'R') THEN -1 ELSE 1 END) as Items\n",
    "FROM `wedge-project-ada-amh.wedge_data.Wedge_Data_Complete`\n",
    "WHERE\n",
    "  card_no != 3\n",
    "  AND department != 0\n",
    "  AND department != 15\n",
    "  AND trans_status != 'M'\n",
    "  AND trans_status != 'C'\n",
    "  AND trans_status != 'J'\n",
    "  AND (trans_status = ''\n",
    "    OR trans_status = ' '\n",
    "    OR trans_status = 'V'\n",
    "    OR trans_status = 'R')\n",
    "GROUP BY date, hour\n",
    "ORDER BY date, hour\n",
    "''')\n",
    "\n",
    "query_job = client.query(\n",
    "    query,\n",
    "    location = 'US',\n",
    ")\n",
    "\n",
    "table_one = client.query(query)\n",
    "\n",
    "\n",
    "\n",
    "with open('SalesDate.txt', 'w')as output_file:\n",
    "    for line in table_one:\n",
    "        row = [str(item) for item in line]\n",
    "        output_file.write(','.join(row)+ '\\n')"
   ]
  },
  {
   "cell_type": "code",
   "execution_count": 6,
   "metadata": {},
   "outputs": [
    {
     "data": {
      "text/plain": [
       "<sqlite3.Cursor at 0x2a435ac5810>"
      ]
     },
     "execution_count": 6,
     "metadata": {},
     "output_type": "execute_result"
    }
   ],
   "source": [
    "#create SalesDate in db\n",
    "input_file = 'SalesDate.txt'\n",
    "db = sqlite3.connect(\"AHendricks_Wedge_Pt3.db\")\n",
    "cur = db.cursor()\n",
    "\n",
    "cur.execute('''DROP TABLE IF EXISTS SalesDate''')\n",
    "cur.execute('''CREATE TABLE SalesDate (\n",
    "    date TIMESTAMP,\n",
    "    hour TIMESTAMP,\n",
    "    sales REAL,\n",
    "    transactions INTEGER,\n",
    "    items TEXT)''')"
   ]
  },
  {
   "cell_type": "code",
   "execution_count": 7,
   "metadata": {},
   "outputs": [],
   "source": [
    "#insert query 1 data into SalesDate\n",
    "with open(input_file, 'r', encoding = 'Latin-1') as infile:\n",
    "    for idx,line in enumerate(infile.readlines()):\n",
    "        line = line.strip().split(',')\n",
    "        cur.execute('''\n",
    "        INSERT INTO SalesDate (date, hour, sales, transactions, items)\n",
    "        VALUES (?,?,?,?,?)''', line)\n",
    "db.commit()"
   ]
  },
  {
   "cell_type": "code",
   "execution_count": 8,
   "metadata": {},
   "outputs": [],
   "source": [
    "#query for second table\n",
    "\n",
    "query = ('''\n",
    "SELECT\n",
    "card_no,\n",
    "(EXTRACT(year FROM datetime)) AS year,\n",
    "(EXTRACT(month FROM datetime)) AS month,\n",
    "  SUM(total) AS spend,\n",
    "  COUNT(DISTINCT(DATE(datetime) || register_no || emp_no || trans_no)) as Transactions,\n",
    "  sum(CASE WHEN (trans_status = 'V' or trans_status = 'R') THEN -1 ELSE 1 END) as Items,\n",
    "\n",
    "FROM `wedge-project-ada-amh.wedge_data.Wedge_Data_Complete`\n",
    "WHERE\n",
    "  card_no != 3\n",
    "  AND department != 0\n",
    "  AND department != 15\n",
    "  AND trans_status != 'M'\n",
    "  AND trans_status != 'C'\n",
    "  AND trans_status != 'J'\n",
    "  AND (trans_status = ''\n",
    "    OR trans_status = ' '\n",
    "    OR trans_status = 'V'\n",
    "    OR trans_status = 'R')\n",
    "GROUP BY card_no, year, month\n",
    "ORDER BY year, month\n",
    "''')\n",
    "\n",
    "query_job = client.query(\n",
    "    query,\n",
    "    location = 'US',\n",
    ")\n",
    "\n",
    "table_two = client.query(query)\n",
    "\n",
    "\n",
    "\n",
    "with open('SalesOwner.txt', 'w')as output_file:\n",
    "    for line in table_two:\n",
    "        row = [str(item) for item in line]\n",
    "        output_file.write(','.join(row)+ '\\n')"
   ]
  },
  {
   "cell_type": "code",
   "execution_count": 9,
   "metadata": {},
   "outputs": [
    {
     "data": {
      "text/plain": [
       "<sqlite3.Cursor at 0x2a435ac57a0>"
      ]
     },
     "execution_count": 9,
     "metadata": {},
     "output_type": "execute_result"
    }
   ],
   "source": [
    "#create SalesOwner in db\n",
    "input_file = 'SalesOwner.txt'\n",
    "db = sqlite3.connect(\"AHendricks_Wedge_Pt3.db\")\n",
    "cur = db.cursor()\n",
    "\n",
    "cur.execute('''DROP TABLE IF EXISTS SalesOwner''')\n",
    "cur.execute('''CREATE TABLE SalesOwner (\n",
    "    card_no INTEGER,\n",
    "    year TIMESTAMP,\n",
    "    month TIMESTAMP,\n",
    "    sales REAL,\n",
    "    transactions INTEGER,\n",
    "    items TEXT)''')"
   ]
  },
  {
   "cell_type": "code",
   "execution_count": 10,
   "metadata": {},
   "outputs": [],
   "source": [
    "#insert query 2 data into SalesOwner\n",
    "with open(input_file, 'r', encoding = 'Latin-1') as infile:\n",
    "    for idx,line in enumerate(infile.readlines()):\n",
    "        line = line.strip().split(',')\n",
    "        cur.execute('''\n",
    "        INSERT INTO SalesOwner (card_no, year, month, sales, transactions, items)\n",
    "        VALUES (?,?,?,?,?,?)''', line)\n",
    "db.commit()"
   ]
  },
  {
   "cell_type": "code",
   "execution_count": 11,
   "metadata": {},
   "outputs": [],
   "source": [
    "#query for third table\n",
    "\n",
    "query = ('''\n",
    "SELECT\n",
    "upc,\n",
    "description,\n",
    "a.department,\n",
    "b.dept_name,\n",
    "  \n",
    "(EXTRACT(year FROM datetime)) AS year,\n",
    "(EXTRACT(month FROM datetime)) AS month,\n",
    "  SUM(total) AS spend,\n",
    "  COUNT(DISTINCT(DATE(datetime) || register_no || emp_no || trans_no)) as Transactions,\n",
    "  sum(CASE WHEN (trans_status = 'V' or trans_status = 'R') THEN -1 ELSE 1 END) as Items,\n",
    "\n",
    "FROM `wedge-project-ada-amh.wedge_data.Wedge_Data_Complete`a\n",
    "LEFT JOIN `wedge-project-ada-amh.wedge_data.Dept_Name`b\n",
    "ON a.department = b.department\n",
    "WHERE\n",
    "  card_no != 3\n",
    "  AND a.department != 0\n",
    "  AND a.department != 15\n",
    "  AND trans_status != 'M'\n",
    "  AND trans_status != 'C'\n",
    "  AND trans_status != 'J'\n",
    "  AND (trans_status = ''\n",
    "    OR trans_status = ' '\n",
    "    OR trans_status = 'V'\n",
    "    OR trans_status = 'R')\n",
    "GROUP BY upc, description, department, b.dept_name,year, month\n",
    "ORDER BY year, month\n",
    "''')\n",
    "\n",
    "query_job = client.query(\n",
    "    query,\n",
    "    location = 'US',\n",
    ")\n",
    "\n",
    "table_two = client.query(query)\n",
    "\n",
    "\n",
    "\n",
    "with open('SalesProduct.txt', 'w')as output_file:\n",
    "    for line in table_two:\n",
    "        row = [str(item) for item in line]\n",
    "        output_file.write(','.join(row)+ '\\n')"
   ]
  },
  {
   "cell_type": "code",
   "execution_count": 12,
   "metadata": {},
   "outputs": [
    {
     "data": {
      "text/plain": [
       "<sqlite3.Cursor at 0x2a435b3cce0>"
      ]
     },
     "execution_count": 12,
     "metadata": {},
     "output_type": "execute_result"
    }
   ],
   "source": [
    "#create SalesProduct in db\n",
    "input_file = 'SalesProduct.txt'\n",
    "db = sqlite3.connect(\"AHendricks_Wedge_Pt3.db\")\n",
    "cur = db.cursor()\n",
    "\n",
    "cur.execute('''DROP TABLE IF EXISTS SalesProduct''')\n",
    "cur.execute('''CREATE TABLE SalesProduct (\n",
    "    upc STRING,\n",
    "    description STRING,\n",
    "    department FLOAT,\n",
    "    department_name STRING,\n",
    "    year TIMESTAMP,\n",
    "    month TIMESTAMP,\n",
    "    sales REAL,\n",
    "    transactions INTEGER,\n",
    "    items TEXT)''')"
   ]
  },
  {
   "cell_type": "code",
   "execution_count": 13,
   "metadata": {},
   "outputs": [],
   "source": [
    "#insert query 3 data into SalesProduct\n",
    "with open(input_file, 'r', encoding = 'Latin-1') as infile:\n",
    "    for idx,line in enumerate(infile.readlines()):\n",
    "        line = line.strip().split(',')\n",
    "        cur.execute('''\n",
    "        INSERT INTO SalesProduct (upc, description, department, department_name, year, month, sales, transactions, items)\n",
    "        VALUES (?,?,?,?,?,?,?,?,?)''', line)\n",
    "db.commit()"
   ]
  }
 ],
 "metadata": {
  "kernelspec": {
   "display_name": "Python 3",
   "language": "python",
   "name": "python3"
  },
  "language_info": {
   "codemirror_mode": {
    "name": "ipython",
    "version": 3
   },
   "file_extension": ".py",
   "mimetype": "text/x-python",
   "name": "python",
   "nbconvert_exporter": "python",
   "pygments_lexer": "ipython3",
   "version": "3.7.7"
  }
 },
 "nbformat": 4,
 "nbformat_minor": 4
}
